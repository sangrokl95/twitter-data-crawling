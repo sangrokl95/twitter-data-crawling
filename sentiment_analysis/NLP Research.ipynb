{
 "cells": [
  {
   "cell_type": "code",
   "execution_count": 1,
   "metadata": {},
   "outputs": [],
   "source": [
    "import re\n",
    "import pandas as pd\n",
    "import numpy as np\n",
    "import matplotlib.pyplot as plt\n",
    "import seaborn as sns\n",
    "import nltk"
   ]
  },
  {
   "cell_type": "code",
   "execution_count": 2,
   "metadata": {},
   "outputs": [],
   "source": [
    "twitter_api = pd.read_csv(\"/Users/sangrok/Desktop/EAS 560/twitter_api.csv\", sep = \"\\t\")"
   ]
  },
  {
   "cell_type": "code",
   "execution_count": 3,
   "metadata": {},
   "outputs": [
    {
     "name": "stdout",
     "output_type": "stream",
     "text": [
      "Requirement already satisfied: tweepy in /opt/anaconda3/lib/python3.7/site-packages (3.9.0)\n",
      "Requirement already satisfied: requests-oauthlib>=0.7.0 in /opt/anaconda3/lib/python3.7/site-packages (from tweepy) (1.3.0)\n",
      "Requirement already satisfied: six>=1.10.0 in /opt/anaconda3/lib/python3.7/site-packages (from tweepy) (1.14.0)\n",
      "Requirement already satisfied: requests[socks]>=2.11.1 in /opt/anaconda3/lib/python3.7/site-packages (from tweepy) (2.22.0)\n",
      "Requirement already satisfied: oauthlib>=3.0.0 in /opt/anaconda3/lib/python3.7/site-packages (from requests-oauthlib>=0.7.0->tweepy) (3.1.0)\n",
      "Requirement already satisfied: chardet<3.1.0,>=3.0.2 in /opt/anaconda3/lib/python3.7/site-packages (from requests[socks]>=2.11.1->tweepy) (3.0.4)\n",
      "Requirement already satisfied: urllib3!=1.25.0,!=1.25.1,<1.26,>=1.21.1 in /opt/anaconda3/lib/python3.7/site-packages (from requests[socks]>=2.11.1->tweepy) (1.25.8)\n",
      "Requirement already satisfied: idna<2.9,>=2.5 in /opt/anaconda3/lib/python3.7/site-packages (from requests[socks]>=2.11.1->tweepy) (2.8)\n",
      "Requirement already satisfied: certifi>=2017.4.17 in /opt/anaconda3/lib/python3.7/site-packages (from requests[socks]>=2.11.1->tweepy) (2019.11.28)\n",
      "Requirement already satisfied: PySocks!=1.5.7,>=1.5.6; extra == \"socks\" in /opt/anaconda3/lib/python3.7/site-packages (from requests[socks]>=2.11.1->tweepy) (1.7.1)\n",
      "Note: you may need to restart the kernel to use updated packages.\n"
     ]
    }
   ],
   "source": [
    "pip install tweepy"
   ]
  },
  {
   "cell_type": "code",
   "execution_count": 4,
   "metadata": {},
   "outputs": [],
   "source": [
    "import tweepy\n",
    "\n",
    "consumer_key = twitter_api[\"api\"][0]\n",
    "consumer_secret = twitter_api[\"api\"][1]\n",
    "access_token_key = twitter_api[\"api\"][2]\n",
    "access_token_secret = twitter_api[\"api\"][3]\n",
    "\n",
    "authentication = tweepy.OAuthHandler(consumer_key, consumer_secret)\n",
    "\n",
    "authentication.set_access_token(access_token_key, access_token_secret)\n",
    "\n",
    "api = tweepy.API(authentication, wait_on_rate_limit = True)"
   ]
  },
  {
   "cell_type": "code",
   "execution_count": 5,
   "metadata": {},
   "outputs": [
    {
     "name": "stdout",
     "output_type": "stream",
     "text": [
      "Discussing climate, sustainability, and preserving the natural world with President @EmmanuelMacron today in Paris. #BezosEarthFund #ClimatePledge https://t.co/1WJe18nc3l\n",
      "\n",
      "I just took a DNA test, turns out I’m 100% @lizzo’s biggest fan. #SBLIV https://t.co/RhOduXk8Qd\n",
      "\n",
      "Hey, Alexa — show everyone our upcoming Super Bowl ad. Thanks @TheEllenShow and @PortiaDeRossi! https://t.co/U8Qua3dhwg\n",
      "\n",
      "#Jamal https://t.co/8ej1rUBXVb\n",
      "\n",
      "Hey, India. We’re rolling out our new fleet of electric delivery rickshaws. Fully electric. Zero carbon. #ClimatePledge https://t.co/qFXdZOsY4y\n",
      "\n",
      "Proud of the program we have in India to hire and train deaf associates at our delivery stations. Managers learn basic sign language to be able to communicate. Meeting this group was a moving experience for me. https://t.co/gGm0dvCjkX\n",
      "\n",
      "Amazon partners with thousands of kirana stores all over India as delivery points. It’s good for customers, and it helps the shop owners earn additional income. Got to visit one in Mumbai. Thank you, Amol, for letting me deliver a package. #MSME https://t.co/VpoHUoJOIH\n",
      "\n",
      "Lots of fun on stage with @iamsrk and Zoya Akhtar. https://t.co/wdZ2tEsySX\n",
      "\n",
      "Grabbing a quick selfie with @AmitAgarwal at India’s small business summit. Everyone squeeze in a little tighter! #amazonsmbhav https://t.co/IvsciKDyiu\n",
      "\n",
      "Dynamism. Energy. Democracy. #IndianCentury https://t.co/U6cKJO60Rz\n",
      "\n"
     ]
    }
   ],
   "source": [
    "# import the 200 tweets from twitter user\n",
    "tweets = api.user_timeline(screen_name = \"JeffBezos\", count = 200, tweet_mode = \"extended\")\n",
    "\n",
    "# print the most recent 10 tweets\n",
    "for tweet in tweets[:10]:\n",
    "    print(tweet.full_text + \"\\n\")"
   ]
  },
  {
   "cell_type": "code",
   "execution_count": 6,
   "metadata": {},
   "outputs": [
    {
     "data": {
      "text/html": [
       "<div>\n",
       "<style scoped>\n",
       "    .dataframe tbody tr th:only-of-type {\n",
       "        vertical-align: middle;\n",
       "    }\n",
       "\n",
       "    .dataframe tbody tr th {\n",
       "        vertical-align: top;\n",
       "    }\n",
       "\n",
       "    .dataframe thead th {\n",
       "        text-align: right;\n",
       "    }\n",
       "</style>\n",
       "<table border=\"1\" class=\"dataframe\">\n",
       "  <thead>\n",
       "    <tr style=\"text-align: right;\">\n",
       "      <th></th>\n",
       "      <th>tweets</th>\n",
       "    </tr>\n",
       "  </thead>\n",
       "  <tbody>\n",
       "    <tr>\n",
       "      <th>0</th>\n",
       "      <td>discussing climate, sustainability, and preser...</td>\n",
       "    </tr>\n",
       "    <tr>\n",
       "      <th>1</th>\n",
       "      <td>i just took a dna test, turns out i’m 100% @li...</td>\n",
       "    </tr>\n",
       "    <tr>\n",
       "      <th>2</th>\n",
       "      <td>hey, alexa — show everyone our upcoming super ...</td>\n",
       "    </tr>\n",
       "    <tr>\n",
       "      <th>3</th>\n",
       "      <td>#jamal https://t.co/8ej1rubxvb</td>\n",
       "    </tr>\n",
       "    <tr>\n",
       "      <th>4</th>\n",
       "      <td>hey, india. we’re rolling out our new fleet of...</td>\n",
       "    </tr>\n",
       "  </tbody>\n",
       "</table>\n",
       "</div>"
      ],
      "text/plain": [
       "                                              tweets\n",
       "0  discussing climate, sustainability, and preser...\n",
       "1  i just took a dna test, turns out i’m 100% @li...\n",
       "2  hey, alexa — show everyone our upcoming super ...\n",
       "3                     #jamal https://t.co/8ej1rubxvb\n",
       "4  hey, india. we’re rolling out our new fleet of..."
      ]
     },
     "execution_count": 6,
     "metadata": {},
     "output_type": "execute_result"
    }
   ],
   "source": [
    "# create a dataframe\n",
    "df = pd.DataFrame([tweet.full_text for tweet in tweets], columns = [\"tweets\"])\n",
    "\n",
    "for word in range(len(df[\"tweets\"])):\n",
    "    df[\"tweets\"][word] = df[\"tweets\"][word].lower()\n",
    "\n",
    "df.head()"
   ]
  },
  {
   "cell_type": "code",
   "execution_count": 7,
   "metadata": {},
   "outputs": [
    {
     "data": {
      "text/html": [
       "<div>\n",
       "<style scoped>\n",
       "    .dataframe tbody tr th:only-of-type {\n",
       "        vertical-align: middle;\n",
       "    }\n",
       "\n",
       "    .dataframe tbody tr th {\n",
       "        vertical-align: top;\n",
       "    }\n",
       "\n",
       "    .dataframe thead th {\n",
       "        text-align: right;\n",
       "    }\n",
       "</style>\n",
       "<table border=\"1\" class=\"dataframe\">\n",
       "  <thead>\n",
       "    <tr style=\"text-align: right;\">\n",
       "      <th></th>\n",
       "      <th>tweets</th>\n",
       "      <th>tweets_adj</th>\n",
       "    </tr>\n",
       "  </thead>\n",
       "  <tbody>\n",
       "    <tr>\n",
       "      <th>0</th>\n",
       "      <td>discussing climate, sustainability, and preser...</td>\n",
       "      <td>discussing climate  sustainability  and preser...</td>\n",
       "    </tr>\n",
       "    <tr>\n",
       "      <th>1</th>\n",
       "      <td>i just took a dna test, turns out i’m 100% @li...</td>\n",
       "      <td>i just took a dna test  turns out i m        s...</td>\n",
       "    </tr>\n",
       "    <tr>\n",
       "      <th>2</th>\n",
       "      <td>hey, alexa — show everyone our upcoming super ...</td>\n",
       "      <td>hey  alexa   show everyone our upcoming super ...</td>\n",
       "    </tr>\n",
       "    <tr>\n",
       "      <th>3</th>\n",
       "      <td>#jamal https://t.co/8ej1rubxvb</td>\n",
       "      <td>jamal</td>\n",
       "    </tr>\n",
       "    <tr>\n",
       "      <th>4</th>\n",
       "      <td>hey, india. we’re rolling out our new fleet of...</td>\n",
       "      <td>hey  india  we re rolling out our new fleet of...</td>\n",
       "    </tr>\n",
       "  </tbody>\n",
       "</table>\n",
       "</div>"
      ],
      "text/plain": [
       "                                              tweets  \\\n",
       "0  discussing climate, sustainability, and preser...   \n",
       "1  i just took a dna test, turns out i’m 100% @li...   \n",
       "2  hey, alexa — show everyone our upcoming super ...   \n",
       "3                     #jamal https://t.co/8ej1rubxvb   \n",
       "4  hey, india. we’re rolling out our new fleet of...   \n",
       "\n",
       "                                          tweets_adj  \n",
       "0  discussing climate  sustainability  and preser...  \n",
       "1  i just took a dna test  turns out i m        s...  \n",
       "2  hey  alexa   show everyone our upcoming super ...  \n",
       "3                                            jamal    \n",
       "4  hey  india  we re rolling out our new fleet of...  "
      ]
     },
     "execution_count": 7,
     "metadata": {},
     "output_type": "execute_result"
    }
   ],
   "source": [
    "# remove unwanted url, numbers and special characters\n",
    "def remove_text_pattern(tweet):\n",
    "    tweet = re.sub(\"((http|https):\\/\\/)?[\\w\\-_]+(\\.[\\w\\-_]+)+([\\w\\-\\.,@?^=%&amp;:/~\\+#]*[\\w\\-\\@?^=%&amp;/~\\+#])?\", \" \", tweet)\n",
    "    tweet = re.sub(\"@[\\w]*\", \" \", tweet)\n",
    "    tweet = re.sub(\"[^a-zA-Z#]\", \" \", tweet)\n",
    "    tweet = re.sub(\"#\", \" \", tweet)\n",
    "    \n",
    "    return tweet\n",
    "\n",
    "df[\"tweets_adj\"] = df[\"tweets\"].apply(remove_text_pattern)\n",
    "df.head()"
   ]
  },
  {
   "cell_type": "code",
   "execution_count": 8,
   "metadata": {},
   "outputs": [
    {
     "data": {
      "text/html": [
       "<div>\n",
       "<style scoped>\n",
       "    .dataframe tbody tr th:only-of-type {\n",
       "        vertical-align: middle;\n",
       "    }\n",
       "\n",
       "    .dataframe tbody tr th {\n",
       "        vertical-align: top;\n",
       "    }\n",
       "\n",
       "    .dataframe thead th {\n",
       "        text-align: right;\n",
       "    }\n",
       "</style>\n",
       "<table border=\"1\" class=\"dataframe\">\n",
       "  <thead>\n",
       "    <tr style=\"text-align: right;\">\n",
       "      <th></th>\n",
       "      <th>tweets</th>\n",
       "      <th>tweets_adj</th>\n",
       "    </tr>\n",
       "  </thead>\n",
       "  <tbody>\n",
       "    <tr>\n",
       "      <th>0</th>\n",
       "      <td>discussing climate, sustainability, and preser...</td>\n",
       "      <td>discussing climate sustainability preserving n...</td>\n",
       "    </tr>\n",
       "    <tr>\n",
       "      <th>1</th>\n",
       "      <td>i just took a dna test, turns out i’m 100% @li...</td>\n",
       "      <td>just took test turns biggest sbliv</td>\n",
       "    </tr>\n",
       "    <tr>\n",
       "      <th>2</th>\n",
       "      <td>hey, alexa — show everyone our upcoming super ...</td>\n",
       "      <td>alexa show everyone upcoming super bowl thanks</td>\n",
       "    </tr>\n",
       "    <tr>\n",
       "      <th>3</th>\n",
       "      <td>#jamal https://t.co/8ej1rubxvb</td>\n",
       "      <td>jamal</td>\n",
       "    </tr>\n",
       "    <tr>\n",
       "      <th>4</th>\n",
       "      <td>hey, india. we’re rolling out our new fleet of...</td>\n",
       "      <td>india rolling fleet electric delivery rickshaw...</td>\n",
       "    </tr>\n",
       "  </tbody>\n",
       "</table>\n",
       "</div>"
      ],
      "text/plain": [
       "                                              tweets  \\\n",
       "0  discussing climate, sustainability, and preser...   \n",
       "1  i just took a dna test, turns out i’m 100% @li...   \n",
       "2  hey, alexa — show everyone our upcoming super ...   \n",
       "3                     #jamal https://t.co/8ej1rubxvb   \n",
       "4  hey, india. we’re rolling out our new fleet of...   \n",
       "\n",
       "                                          tweets_adj  \n",
       "0  discussing climate sustainability preserving n...  \n",
       "1                 just took test turns biggest sbliv  \n",
       "2     alexa show everyone upcoming super bowl thanks  \n",
       "3                                              jamal  \n",
       "4  india rolling fleet electric delivery rickshaw...  "
      ]
     },
     "execution_count": 8,
     "metadata": {},
     "output_type": "execute_result"
    }
   ],
   "source": [
    "# remove the short words\n",
    "df[\"tweets_adj\"] = df[\"tweets_adj\"].apply(lambda x: \" \".join([word for word in x.split() if len(word) > 3]))\n",
    "df.head()"
   ]
  },
  {
   "cell_type": "code",
   "execution_count": 9,
   "metadata": {},
   "outputs": [
    {
     "data": {
      "text/plain": [
       "0    [discussing, climate, sustainability, preservi...\n",
       "1            [just, took, test, turns, biggest, sbliv]\n",
       "2    [alexa, show, everyone, upcoming, super, bowl,...\n",
       "3                                              [jamal]\n",
       "4    [india, rolling, fleet, electric, delivery, ri...\n",
       "Name: tweets_adj, dtype: object"
      ]
     },
     "execution_count": 9,
     "metadata": {},
     "output_type": "execute_result"
    }
   ],
   "source": [
    "# tokenization\n",
    "from nltk.tokenize import TweetTokenizer\n",
    "tweet_tokenizer = TweetTokenizer()\n",
    "\n",
    "tweet_tokens = df[\"tweets_adj\"].apply(lambda x: tweet_tokenizer.tokenize(x))\n",
    "tweet_tokens.head()"
   ]
  },
  {
   "cell_type": "code",
   "execution_count": 10,
   "metadata": {},
   "outputs": [
    {
     "data": {
      "text/plain": [
       "0    [discuss, climat, sustain, preserv, natur, wor...\n",
       "1             [just, took, test, turn, biggest, sbliv]\n",
       "2    [alexa, show, everyon, upcom, super, bowl, thank]\n",
       "3                                              [jamal]\n",
       "4    [india, roll, fleet, electr, deliveri, ricksha...\n",
       "Name: tweets_adj, dtype: object"
      ]
     },
     "execution_count": 10,
     "metadata": {},
     "output_type": "execute_result"
    }
   ],
   "source": [
    "# stemming\n",
    "from nltk.stem.snowball import SnowballStemmer\n",
    "s_stemmer = SnowballStemmer(language = \"english\")\n",
    "\n",
    "tweet_tokens = tweet_tokens.apply(lambda x: [s_stemmer.stem(token) for token in x])\n",
    "tweet_tokens.head()"
   ]
  },
  {
   "cell_type": "code",
   "execution_count": 11,
   "metadata": {},
   "outputs": [
    {
     "data": {
      "text/plain": [
       "0    [discuss, climat, sustain, preserv, natur, wor...\n",
       "1             [just, take, test, turn, biggest, sbliv]\n",
       "2    [alexa, show, everyon, upcom, super, bowl, thank]\n",
       "3                                              [jamal]\n",
       "4    [india, roll, fleet, electr, deliveri, ricksha...\n",
       "Name: tweets_adj, dtype: object"
      ]
     },
     "execution_count": 11,
     "metadata": {},
     "output_type": "execute_result"
    }
   ],
   "source": [
    "# lemmatization\n",
    "nltk.download(\"wordnet\", quiet = True)\n",
    "from nltk.stem import WordNetLemmatizer\n",
    "lemmatization = WordNetLemmatizer()\n",
    "\n",
    "tweet_tokens = tweet_tokens.apply(lambda x: [lemmatization.lemmatize(token, pos = \"v\") for token in x])\n",
    "tweet_tokens.head()"
   ]
  },
  {
   "cell_type": "code",
   "execution_count": 12,
   "metadata": {},
   "outputs": [
    {
     "data": {
      "text/plain": [
       "0    [discuss, climat, sustain, preserv, natur, wor...\n",
       "1                   [take, test, turn, biggest, sbliv]\n",
       "2    [alexa, show, everyon, upcom, super, bowl, thank]\n",
       "3                                              [jamal]\n",
       "4    [india, roll, fleet, electr, deliveri, ricksha...\n",
       "Name: tweets_adj, dtype: object"
      ]
     },
     "execution_count": 12,
     "metadata": {},
     "output_type": "execute_result"
    }
   ],
   "source": [
    "# stop words\n",
    "nltk.download(\"stopwords\", quiet = True)\n",
    "from nltk.corpus import stopwords\n",
    "stop_words = set(stopwords.words(\"english\"))\n",
    "\n",
    "tweet_tokens = tweet_tokens.apply(lambda x: [token for token in x if not token in stop_words])\n",
    "tweet_tokens.head()"
   ]
  },
  {
   "cell_type": "code",
   "execution_count": 13,
   "metadata": {
    "scrolled": true
   },
   "outputs": [
    {
     "data": {
      "text/plain": [
       "0    [discuss, climat, sustain, preserv, natur, wor...\n",
       "1                   [take, test, turn, biggest, sbliv]\n",
       "2    [alexa, show, everyon, upcom, super, bowl, thank]\n",
       "3                                              [jamal]\n",
       "4    [india, roll, fleet, electr, deliveri, ricksha...\n",
       "Name: tweets_adj, dtype: object"
      ]
     },
     "execution_count": 13,
     "metadata": {},
     "output_type": "execute_result"
    }
   ],
   "source": [
    "# remove the punctuations\n",
    "punctuations = \".,?;!:\"\n",
    "\n",
    "for tweet in tweet_tokens:\n",
    "    for word in tweet:\n",
    "        if word in punctuations:\n",
    "            tweet.remove(word)\n",
    "\n",
    "tweet_tokens.head()"
   ]
  },
  {
   "cell_type": "code",
   "execution_count": 14,
   "metadata": {},
   "outputs": [],
   "source": [
    "# concatenate\n",
    "for token in range(len(tweet_tokens)):\n",
    "    tweet_tokens[token] = \" \".join(tweet_tokens[token])\n",
    "\n",
    "df[\"tweets_adj\"] = tweet_tokens"
   ]
  },
  {
   "cell_type": "code",
   "execution_count": 15,
   "metadata": {},
   "outputs": [
    {
     "data": {
      "text/html": [
       "<div>\n",
       "<style scoped>\n",
       "    .dataframe tbody tr th:only-of-type {\n",
       "        vertical-align: middle;\n",
       "    }\n",
       "\n",
       "    .dataframe tbody tr th {\n",
       "        vertical-align: top;\n",
       "    }\n",
       "\n",
       "    .dataframe thead th {\n",
       "        text-align: right;\n",
       "    }\n",
       "</style>\n",
       "<table border=\"1\" class=\"dataframe\">\n",
       "  <thead>\n",
       "    <tr style=\"text-align: right;\">\n",
       "      <th></th>\n",
       "      <th>tweets</th>\n",
       "      <th>tweets_adj</th>\n",
       "    </tr>\n",
       "  </thead>\n",
       "  <tbody>\n",
       "    <tr>\n",
       "      <th>0</th>\n",
       "      <td>discussing climate, sustainability, and preser...</td>\n",
       "      <td>discuss climat sustain preserv natur world pre...</td>\n",
       "    </tr>\n",
       "    <tr>\n",
       "      <th>1</th>\n",
       "      <td>i just took a dna test, turns out i’m 100% @li...</td>\n",
       "      <td>take test turn biggest sbliv</td>\n",
       "    </tr>\n",
       "    <tr>\n",
       "      <th>2</th>\n",
       "      <td>hey, alexa — show everyone our upcoming super ...</td>\n",
       "      <td>alexa show everyon upcom super bowl thank</td>\n",
       "    </tr>\n",
       "    <tr>\n",
       "      <th>3</th>\n",
       "      <td>#jamal https://t.co/8ej1rubxvb</td>\n",
       "      <td>jamal</td>\n",
       "    </tr>\n",
       "    <tr>\n",
       "      <th>4</th>\n",
       "      <td>hey, india. we’re rolling out our new fleet of...</td>\n",
       "      <td>india roll fleet electr deliveri rickshaw full...</td>\n",
       "    </tr>\n",
       "  </tbody>\n",
       "</table>\n",
       "</div>"
      ],
      "text/plain": [
       "                                              tweets  \\\n",
       "0  discussing climate, sustainability, and preser...   \n",
       "1  i just took a dna test, turns out i’m 100% @li...   \n",
       "2  hey, alexa — show everyone our upcoming super ...   \n",
       "3                     #jamal https://t.co/8ej1rubxvb   \n",
       "4  hey, india. we’re rolling out our new fleet of...   \n",
       "\n",
       "                                          tweets_adj  \n",
       "0  discuss climat sustain preserv natur world pre...  \n",
       "1                       take test turn biggest sbliv  \n",
       "2          alexa show everyon upcom super bowl thank  \n",
       "3                                              jamal  \n",
       "4  india roll fleet electr deliveri rickshaw full...  "
      ]
     },
     "execution_count": 15,
     "metadata": {},
     "output_type": "execute_result"
    }
   ],
   "source": [
    "df.head()"
   ]
  },
  {
   "cell_type": "code",
   "execution_count": 16,
   "metadata": {},
   "outputs": [
    {
     "data": {
      "image/png": "[encoded data removed]",
      "text/plain": [
       "<Figure size 432x288 with 1 Axes>"
      ]
     },
     "metadata": {
      "needs_background": "light"
     },
     "output_type": "display_data"
    }
   ],
   "source": [
    "# visualize the most common words\n",
    "from wordcloud import WordCloud\n",
    "\n",
    "words = \" \".join([word for word in df[\"tweets_adj\"]])\n",
    "wordcloud = WordCloud(width = 500, height = 300, max_font_size = 50, max_words = 100, background_color = \"white\").generate(words)\n",
    "\n",
    "plt.imshow(wordcloud, interpolation = \"bilinear\")\n",
    "plt.axis(\"off\")\n",
    "plt.show()"
   ]
  },
  {
   "cell_type": "code",
   "execution_count": 17,
   "metadata": {},
   "outputs": [
    {
     "data": {
      "text/html": [
       "<div>\n",
       "<style scoped>\n",
       "    .dataframe tbody tr th:only-of-type {\n",
       "        vertical-align: middle;\n",
       "    }\n",
       "\n",
       "    .dataframe tbody tr th {\n",
       "        vertical-align: top;\n",
       "    }\n",
       "\n",
       "    .dataframe thead th {\n",
       "        text-align: right;\n",
       "    }\n",
       "</style>\n",
       "<table border=\"1\" class=\"dataframe\">\n",
       "  <thead>\n",
       "    <tr style=\"text-align: right;\">\n",
       "      <th></th>\n",
       "      <th>tweets</th>\n",
       "      <th>tweets_adj</th>\n",
       "      <th>scores</th>\n",
       "    </tr>\n",
       "  </thead>\n",
       "  <tbody>\n",
       "    <tr>\n",
       "      <th>0</th>\n",
       "      <td>discussing climate, sustainability, and preser...</td>\n",
       "      <td>discuss climat sustain preserv natur world pre...</td>\n",
       "      <td>{'neg': 0.0, 'neu': 1.0, 'pos': 0.0, 'compound...</td>\n",
       "    </tr>\n",
       "    <tr>\n",
       "      <th>1</th>\n",
       "      <td>i just took a dna test, turns out i’m 100% @li...</td>\n",
       "      <td>take test turn biggest sbliv</td>\n",
       "      <td>{'neg': 0.0, 'neu': 1.0, 'pos': 0.0, 'compound...</td>\n",
       "    </tr>\n",
       "    <tr>\n",
       "      <th>2</th>\n",
       "      <td>hey, alexa — show everyone our upcoming super ...</td>\n",
       "      <td>alexa show everyon upcom super bowl thank</td>\n",
       "      <td>{'neg': 0.0, 'neu': 0.439, 'pos': 0.561, 'comp...</td>\n",
       "    </tr>\n",
       "    <tr>\n",
       "      <th>3</th>\n",
       "      <td>#jamal https://t.co/8ej1rubxvb</td>\n",
       "      <td>jamal</td>\n",
       "      <td>{'neg': 0.0, 'neu': 1.0, 'pos': 0.0, 'compound...</td>\n",
       "    </tr>\n",
       "    <tr>\n",
       "      <th>4</th>\n",
       "      <td>hey, india. we’re rolling out our new fleet of...</td>\n",
       "      <td>india roll fleet electr deliveri rickshaw full...</td>\n",
       "      <td>{'neg': 0.0, 'neu': 1.0, 'pos': 0.0, 'compound...</td>\n",
       "    </tr>\n",
       "  </tbody>\n",
       "</table>\n",
       "</div>"
      ],
      "text/plain": [
       "                                              tweets  \\\n",
       "0  discussing climate, sustainability, and preser...   \n",
       "1  i just took a dna test, turns out i’m 100% @li...   \n",
       "2  hey, alexa — show everyone our upcoming super ...   \n",
       "3                     #jamal https://t.co/8ej1rubxvb   \n",
       "4  hey, india. we’re rolling out our new fleet of...   \n",
       "\n",
       "                                          tweets_adj  \\\n",
       "0  discuss climat sustain preserv natur world pre...   \n",
       "1                       take test turn biggest sbliv   \n",
       "2          alexa show everyon upcom super bowl thank   \n",
       "3                                              jamal   \n",
       "4  india roll fleet electr deliveri rickshaw full...   \n",
       "\n",
       "                                              scores  \n",
       "0  {'neg': 0.0, 'neu': 1.0, 'pos': 0.0, 'compound...  \n",
       "1  {'neg': 0.0, 'neu': 1.0, 'pos': 0.0, 'compound...  \n",
       "2  {'neg': 0.0, 'neu': 0.439, 'pos': 0.561, 'comp...  \n",
       "3  {'neg': 0.0, 'neu': 1.0, 'pos': 0.0, 'compound...  \n",
       "4  {'neg': 0.0, 'neu': 1.0, 'pos': 0.0, 'compound...  "
      ]
     },
     "execution_count": 17,
     "metadata": {},
     "output_type": "execute_result"
    }
   ],
   "source": [
    "nltk.download(\"vader_lexicon\", quiet = True)\n",
    "\n",
    "from nltk.sentiment.vader import SentimentIntensityAnalyzer\n",
    "\n",
    "sia = SentimentIntensityAnalyzer()\n",
    "\n",
    "df[\"scores\"] = df[\"tweets_adj\"].apply(lambda x: sia.polarity_scores(x))\n",
    "df.head()"
   ]
  },
  {
   "cell_type": "code",
   "execution_count": 18,
   "metadata": {},
   "outputs": [
    {
     "data": {
      "text/html": [
       "<div>\n",
       "<style scoped>\n",
       "    .dataframe tbody tr th:only-of-type {\n",
       "        vertical-align: middle;\n",
       "    }\n",
       "\n",
       "    .dataframe tbody tr th {\n",
       "        vertical-align: top;\n",
       "    }\n",
       "\n",
       "    .dataframe thead th {\n",
       "        text-align: right;\n",
       "    }\n",
       "</style>\n",
       "<table border=\"1\" class=\"dataframe\">\n",
       "  <thead>\n",
       "    <tr style=\"text-align: right;\">\n",
       "      <th></th>\n",
       "      <th>tweets</th>\n",
       "      <th>tweets_adj</th>\n",
       "      <th>scores</th>\n",
       "      <th>compound</th>\n",
       "    </tr>\n",
       "  </thead>\n",
       "  <tbody>\n",
       "    <tr>\n",
       "      <th>0</th>\n",
       "      <td>discussing climate, sustainability, and preser...</td>\n",
       "      <td>discuss climat sustain preserv natur world pre...</td>\n",
       "      <td>{'neg': 0.0, 'neu': 1.0, 'pos': 0.0, 'compound...</td>\n",
       "      <td>0.0000</td>\n",
       "    </tr>\n",
       "    <tr>\n",
       "      <th>1</th>\n",
       "      <td>i just took a dna test, turns out i’m 100% @li...</td>\n",
       "      <td>take test turn biggest sbliv</td>\n",
       "      <td>{'neg': 0.0, 'neu': 1.0, 'pos': 0.0, 'compound...</td>\n",
       "      <td>0.0000</td>\n",
       "    </tr>\n",
       "    <tr>\n",
       "      <th>2</th>\n",
       "      <td>hey, alexa — show everyone our upcoming super ...</td>\n",
       "      <td>alexa show everyon upcom super bowl thank</td>\n",
       "      <td>{'neg': 0.0, 'neu': 0.439, 'pos': 0.561, 'comp...</td>\n",
       "      <td>0.7506</td>\n",
       "    </tr>\n",
       "    <tr>\n",
       "      <th>3</th>\n",
       "      <td>#jamal https://t.co/8ej1rubxvb</td>\n",
       "      <td>jamal</td>\n",
       "      <td>{'neg': 0.0, 'neu': 1.0, 'pos': 0.0, 'compound...</td>\n",
       "      <td>0.0000</td>\n",
       "    </tr>\n",
       "    <tr>\n",
       "      <th>4</th>\n",
       "      <td>hey, india. we’re rolling out our new fleet of...</td>\n",
       "      <td>india roll fleet electr deliveri rickshaw full...</td>\n",
       "      <td>{'neg': 0.0, 'neu': 1.0, 'pos': 0.0, 'compound...</td>\n",
       "      <td>0.0000</td>\n",
       "    </tr>\n",
       "  </tbody>\n",
       "</table>\n",
       "</div>"
      ],
      "text/plain": [
       "                                              tweets  \\\n",
       "0  discussing climate, sustainability, and preser...   \n",
       "1  i just took a dna test, turns out i’m 100% @li...   \n",
       "2  hey, alexa — show everyone our upcoming super ...   \n",
       "3                     #jamal https://t.co/8ej1rubxvb   \n",
       "4  hey, india. we’re rolling out our new fleet of...   \n",
       "\n",
       "                                          tweets_adj  \\\n",
       "0  discuss climat sustain preserv natur world pre...   \n",
       "1                       take test turn biggest sbliv   \n",
       "2          alexa show everyon upcom super bowl thank   \n",
       "3                                              jamal   \n",
       "4  india roll fleet electr deliveri rickshaw full...   \n",
       "\n",
       "                                              scores  compound  \n",
       "0  {'neg': 0.0, 'neu': 1.0, 'pos': 0.0, 'compound...    0.0000  \n",
       "1  {'neg': 0.0, 'neu': 1.0, 'pos': 0.0, 'compound...    0.0000  \n",
       "2  {'neg': 0.0, 'neu': 0.439, 'pos': 0.561, 'comp...    0.7506  \n",
       "3  {'neg': 0.0, 'neu': 1.0, 'pos': 0.0, 'compound...    0.0000  \n",
       "4  {'neg': 0.0, 'neu': 1.0, 'pos': 0.0, 'compound...    0.0000  "
      ]
     },
     "execution_count": 18,
     "metadata": {},
     "output_type": "execute_result"
    }
   ],
   "source": [
    "df[\"compound\"] = df[\"scores\"].apply(lambda x: x[\"compound\"])\n",
    "df.head()"
   ]
  },
  {
   "cell_type": "code",
   "execution_count": 19,
   "metadata": {
    "scrolled": true
   },
   "outputs": [
    {
     "data": {
      "text/html": [
       "<div>\n",
       "<style scoped>\n",
       "    .dataframe tbody tr th:only-of-type {\n",
       "        vertical-align: middle;\n",
       "    }\n",
       "\n",
       "    .dataframe tbody tr th {\n",
       "        vertical-align: top;\n",
       "    }\n",
       "\n",
       "    .dataframe thead th {\n",
       "        text-align: right;\n",
       "    }\n",
       "</style>\n",
       "<table border=\"1\" class=\"dataframe\">\n",
       "  <thead>\n",
       "    <tr style=\"text-align: right;\">\n",
       "      <th></th>\n",
       "      <th>tweets</th>\n",
       "      <th>tweets_adj</th>\n",
       "      <th>scores</th>\n",
       "      <th>compound</th>\n",
       "      <th>compound_scores</th>\n",
       "    </tr>\n",
       "  </thead>\n",
       "  <tbody>\n",
       "    <tr>\n",
       "      <th>0</th>\n",
       "      <td>discussing climate, sustainability, and preser...</td>\n",
       "      <td>discuss climat sustain preserv natur world pre...</td>\n",
       "      <td>{'neg': 0.0, 'neu': 1.0, 'pos': 0.0, 'compound...</td>\n",
       "      <td>0.0000</td>\n",
       "      <td>neu</td>\n",
       "    </tr>\n",
       "    <tr>\n",
       "      <th>1</th>\n",
       "      <td>i just took a dna test, turns out i’m 100% @li...</td>\n",
       "      <td>take test turn biggest sbliv</td>\n",
       "      <td>{'neg': 0.0, 'neu': 1.0, 'pos': 0.0, 'compound...</td>\n",
       "      <td>0.0000</td>\n",
       "      <td>neu</td>\n",
       "    </tr>\n",
       "    <tr>\n",
       "      <th>2</th>\n",
       "      <td>hey, alexa — show everyone our upcoming super ...</td>\n",
       "      <td>alexa show everyon upcom super bowl thank</td>\n",
       "      <td>{'neg': 0.0, 'neu': 0.439, 'pos': 0.561, 'comp...</td>\n",
       "      <td>0.7506</td>\n",
       "      <td>pos</td>\n",
       "    </tr>\n",
       "    <tr>\n",
       "      <th>3</th>\n",
       "      <td>#jamal https://t.co/8ej1rubxvb</td>\n",
       "      <td>jamal</td>\n",
       "      <td>{'neg': 0.0, 'neu': 1.0, 'pos': 0.0, 'compound...</td>\n",
       "      <td>0.0000</td>\n",
       "      <td>neu</td>\n",
       "    </tr>\n",
       "    <tr>\n",
       "      <th>4</th>\n",
       "      <td>hey, india. we’re rolling out our new fleet of...</td>\n",
       "      <td>india roll fleet electr deliveri rickshaw full...</td>\n",
       "      <td>{'neg': 0.0, 'neu': 1.0, 'pos': 0.0, 'compound...</td>\n",
       "      <td>0.0000</td>\n",
       "      <td>neu</td>\n",
       "    </tr>\n",
       "  </tbody>\n",
       "</table>\n",
       "</div>"
      ],
      "text/plain": [
       "                                              tweets  \\\n",
       "0  discussing climate, sustainability, and preser...   \n",
       "1  i just took a dna test, turns out i’m 100% @li...   \n",
       "2  hey, alexa — show everyone our upcoming super ...   \n",
       "3                     #jamal https://t.co/8ej1rubxvb   \n",
       "4  hey, india. we’re rolling out our new fleet of...   \n",
       "\n",
       "                                          tweets_adj  \\\n",
       "0  discuss climat sustain preserv natur world pre...   \n",
       "1                       take test turn biggest sbliv   \n",
       "2          alexa show everyon upcom super bowl thank   \n",
       "3                                              jamal   \n",
       "4  india roll fleet electr deliveri rickshaw full...   \n",
       "\n",
       "                                              scores  compound compound_scores  \n",
       "0  {'neg': 0.0, 'neu': 1.0, 'pos': 0.0, 'compound...    0.0000             neu  \n",
       "1  {'neg': 0.0, 'neu': 1.0, 'pos': 0.0, 'compound...    0.0000             neu  \n",
       "2  {'neg': 0.0, 'neu': 0.439, 'pos': 0.561, 'comp...    0.7506             pos  \n",
       "3  {'neg': 0.0, 'neu': 1.0, 'pos': 0.0, 'compound...    0.0000             neu  \n",
       "4  {'neg': 0.0, 'neu': 1.0, 'pos': 0.0, 'compound...    0.0000             neu  "
      ]
     },
     "execution_count": 19,
     "metadata": {},
     "output_type": "execute_result"
    }
   ],
   "source": [
    "df[\"compound_scores\"] = df[\"compound\"].apply(lambda x: \"pos\" if x > 0 else (\"neu\" if x == 0 else \"neg\"))\n",
    "df.head()"
   ]
  },
  {
   "cell_type": "code",
   "execution_count": 20,
   "metadata": {
    "scrolled": true
   },
   "outputs": [
    {
     "data": {
      "image/png": "[encoded data removed]",
      "text/plain": [
       "<Figure size 432x288 with 1 Axes>"
      ]
     },
     "metadata": {
      "needs_background": "light"
     },
     "output_type": "display_data"
    }
   ],
   "source": [
    "df[\"compound_scores\"].value_counts().plot(kind = \"bar\")\n",
    "plt.title(\"Sentiment Analysis with VADER\")\n",
    "plt.xlabel(\"Sentiment\")\n",
    "plt.ylabel(\"Counts\")\n",
    "plt.show()"
   ]
  },
  {
   "cell_type": "code",
   "execution_count": 21,
   "metadata": {},
   "outputs": [
    {
     "data": {
      "text/plain": [
       "pos    137\n",
       "neu     55\n",
       "neg      7\n",
       "Name: compound_scores, dtype: int64"
      ]
     },
     "execution_count": 21,
     "metadata": {},
     "output_type": "execute_result"
    }
   ],
   "source": [
    "df[\"compound_scores\"].value_counts()"
   ]
  },
  {
   "cell_type": "code",
   "execution_count": 22,
   "metadata": {},
   "outputs": [
    {
     "name": "stdout",
     "output_type": "stream",
     "text": [
      "rt @jaycarney: if you can’t compete with lower prices and better services, then secretly fund phony “grassroots” attack campaigns. #ugly. h…\n",
      "\n",
      "so much fun with caroline kennedy yesterday at the #jfkspacesummit. her father’s rice speech still inspires. we choose to do these things “not because they are easy, but because they are hard.” #apollo50 https://t.co/zmybdxzk4v\n",
      "\n",
      "grateful for the journalists at the @washingtonpost and around the world who do the work, no matter the risk or dangers they face.\n",
      "#democracydiesindarkness #superbowlad https://t.co/fao74lvss5 https://t.co/37plrnlje0\n",
      "\n",
      "long my favorite novel. teaches pain of regret so well you will think you lived it. congrats, mr. ishiguro, so earned! #nobelprize https://t.co/vboylyliii\n",
      "\n",
      "here’s one more shot of be-4 in its transport cradle. https://t.co/t2hdz3utqz\n",
      "\n",
      "steering through violent maxq escape forces is a residual capability, not explicitly engineered. just a very robust booster. #inflightescape\n",
      "\n",
      "that is one hell of a booster. #inflightescape #gradatimferociter https://t.co/7zrre2hnmo\n",
      "\n"
     ]
    }
   ],
   "source": [
    "for i in range(0, df.shape[0]):\n",
    "    if(df[\"compound_scores\"][i] == \"neg\"):\n",
    "        print(df[\"tweets\"][i])\n",
    "        print()"
   ]
  },
  {
   "cell_type": "code",
   "execution_count": 23,
   "metadata": {},
   "outputs": [
    {
     "data": {
      "text/html": [
       "<div>\n",
       "<style scoped>\n",
       "    .dataframe tbody tr th:only-of-type {\n",
       "        vertical-align: middle;\n",
       "    }\n",
       "\n",
       "    .dataframe tbody tr th {\n",
       "        vertical-align: top;\n",
       "    }\n",
       "\n",
       "    .dataframe thead th {\n",
       "        text-align: right;\n",
       "    }\n",
       "</style>\n",
       "<table border=\"1\" class=\"dataframe\">\n",
       "  <thead>\n",
       "    <tr style=\"text-align: right;\">\n",
       "      <th></th>\n",
       "      <th>tweets</th>\n",
       "      <th>tweets_adj</th>\n",
       "      <th>scores</th>\n",
       "      <th>compound</th>\n",
       "      <th>compound_scores</th>\n",
       "      <th>subjectivity</th>\n",
       "      <th>polarity</th>\n",
       "    </tr>\n",
       "  </thead>\n",
       "  <tbody>\n",
       "    <tr>\n",
       "      <th>0</th>\n",
       "      <td>discussing climate, sustainability, and preser...</td>\n",
       "      <td>discuss climat sustain preserv natur world pre...</td>\n",
       "      <td>{'neg': 0.0, 'neu': 1.0, 'pos': 0.0, 'compound...</td>\n",
       "      <td>0.0000</td>\n",
       "      <td>neu</td>\n",
       "      <td>0.000000</td>\n",
       "      <td>0.000000</td>\n",
       "    </tr>\n",
       "    <tr>\n",
       "      <th>1</th>\n",
       "      <td>i just took a dna test, turns out i’m 100% @li...</td>\n",
       "      <td>take test turn biggest sbliv</td>\n",
       "      <td>{'neg': 0.0, 'neu': 1.0, 'pos': 0.0, 'compound...</td>\n",
       "      <td>0.0000</td>\n",
       "      <td>neu</td>\n",
       "      <td>0.000000</td>\n",
       "      <td>0.000000</td>\n",
       "    </tr>\n",
       "    <tr>\n",
       "      <th>2</th>\n",
       "      <td>hey, alexa — show everyone our upcoming super ...</td>\n",
       "      <td>alexa show everyon upcom super bowl thank</td>\n",
       "      <td>{'neg': 0.0, 'neu': 0.439, 'pos': 0.561, 'comp...</td>\n",
       "      <td>0.7506</td>\n",
       "      <td>pos</td>\n",
       "      <td>0.666667</td>\n",
       "      <td>0.333333</td>\n",
       "    </tr>\n",
       "    <tr>\n",
       "      <th>3</th>\n",
       "      <td>#jamal https://t.co/8ej1rubxvb</td>\n",
       "      <td>jamal</td>\n",
       "      <td>{'neg': 0.0, 'neu': 1.0, 'pos': 0.0, 'compound...</td>\n",
       "      <td>0.0000</td>\n",
       "      <td>neu</td>\n",
       "      <td>0.000000</td>\n",
       "      <td>0.000000</td>\n",
       "    </tr>\n",
       "    <tr>\n",
       "      <th>4</th>\n",
       "      <td>hey, india. we’re rolling out our new fleet of...</td>\n",
       "      <td>india roll fleet electr deliveri rickshaw full...</td>\n",
       "      <td>{'neg': 0.0, 'neu': 1.0, 'pos': 0.0, 'compound...</td>\n",
       "      <td>0.0000</td>\n",
       "      <td>neu</td>\n",
       "      <td>0.000000</td>\n",
       "      <td>0.000000</td>\n",
       "    </tr>\n",
       "  </tbody>\n",
       "</table>\n",
       "</div>"
      ],
      "text/plain": [
       "                                              tweets  \\\n",
       "0  discussing climate, sustainability, and preser...   \n",
       "1  i just took a dna test, turns out i’m 100% @li...   \n",
       "2  hey, alexa — show everyone our upcoming super ...   \n",
       "3                     #jamal https://t.co/8ej1rubxvb   \n",
       "4  hey, india. we’re rolling out our new fleet of...   \n",
       "\n",
       "                                          tweets_adj  \\\n",
       "0  discuss climat sustain preserv natur world pre...   \n",
       "1                       take test turn biggest sbliv   \n",
       "2          alexa show everyon upcom super bowl thank   \n",
       "3                                              jamal   \n",
       "4  india roll fleet electr deliveri rickshaw full...   \n",
       "\n",
       "                                              scores  compound  \\\n",
       "0  {'neg': 0.0, 'neu': 1.0, 'pos': 0.0, 'compound...    0.0000   \n",
       "1  {'neg': 0.0, 'neu': 1.0, 'pos': 0.0, 'compound...    0.0000   \n",
       "2  {'neg': 0.0, 'neu': 0.439, 'pos': 0.561, 'comp...    0.7506   \n",
       "3  {'neg': 0.0, 'neu': 1.0, 'pos': 0.0, 'compound...    0.0000   \n",
       "4  {'neg': 0.0, 'neu': 1.0, 'pos': 0.0, 'compound...    0.0000   \n",
       "\n",
       "  compound_scores  subjectivity  polarity  \n",
       "0             neu      0.000000  0.000000  \n",
       "1             neu      0.000000  0.000000  \n",
       "2             pos      0.666667  0.333333  \n",
       "3             neu      0.000000  0.000000  \n",
       "4             neu      0.000000  0.000000  "
      ]
     },
     "execution_count": 23,
     "metadata": {},
     "output_type": "execute_result"
    }
   ],
   "source": [
    "# create a function for subjectivity and polarity\n",
    "from textblob import TextBlob\n",
    "\n",
    "def subjectivity(tweet):\n",
    "    return TextBlob(tweet).sentiment.subjectivity\n",
    "\n",
    "def polarity(tweet):\n",
    "    return TextBlob(tweet).sentiment.polarity\n",
    "\n",
    "df[\"subjectivity\"] = df[\"tweets_adj\"].apply(subjectivity)\n",
    "df[\"polarity\"] = df[\"tweets_adj\"].apply(polarity)\n",
    "\n",
    "df.head()"
   ]
  },
  {
   "cell_type": "code",
   "execution_count": 24,
   "metadata": {},
   "outputs": [
    {
     "data": {
      "text/html": [
       "<div>\n",
       "<style scoped>\n",
       "    .dataframe tbody tr th:only-of-type {\n",
       "        vertical-align: middle;\n",
       "    }\n",
       "\n",
       "    .dataframe tbody tr th {\n",
       "        vertical-align: top;\n",
       "    }\n",
       "\n",
       "    .dataframe thead th {\n",
       "        text-align: right;\n",
       "    }\n",
       "</style>\n",
       "<table border=\"1\" class=\"dataframe\">\n",
       "  <thead>\n",
       "    <tr style=\"text-align: right;\">\n",
       "      <th></th>\n",
       "      <th>tweets</th>\n",
       "      <th>tweets_adj</th>\n",
       "      <th>scores</th>\n",
       "      <th>compound</th>\n",
       "      <th>compound_scores</th>\n",
       "      <th>subjectivity</th>\n",
       "      <th>polarity</th>\n",
       "      <th>analysis</th>\n",
       "    </tr>\n",
       "  </thead>\n",
       "  <tbody>\n",
       "    <tr>\n",
       "      <th>0</th>\n",
       "      <td>discussing climate, sustainability, and preser...</td>\n",
       "      <td>discuss climat sustain preserv natur world pre...</td>\n",
       "      <td>{'neg': 0.0, 'neu': 1.0, 'pos': 0.0, 'compound...</td>\n",
       "      <td>0.0000</td>\n",
       "      <td>neu</td>\n",
       "      <td>0.000000</td>\n",
       "      <td>0.000000</td>\n",
       "      <td>neu</td>\n",
       "    </tr>\n",
       "    <tr>\n",
       "      <th>1</th>\n",
       "      <td>i just took a dna test, turns out i’m 100% @li...</td>\n",
       "      <td>take test turn biggest sbliv</td>\n",
       "      <td>{'neg': 0.0, 'neu': 1.0, 'pos': 0.0, 'compound...</td>\n",
       "      <td>0.0000</td>\n",
       "      <td>neu</td>\n",
       "      <td>0.000000</td>\n",
       "      <td>0.000000</td>\n",
       "      <td>neu</td>\n",
       "    </tr>\n",
       "    <tr>\n",
       "      <th>2</th>\n",
       "      <td>hey, alexa — show everyone our upcoming super ...</td>\n",
       "      <td>alexa show everyon upcom super bowl thank</td>\n",
       "      <td>{'neg': 0.0, 'neu': 0.439, 'pos': 0.561, 'comp...</td>\n",
       "      <td>0.7506</td>\n",
       "      <td>pos</td>\n",
       "      <td>0.666667</td>\n",
       "      <td>0.333333</td>\n",
       "      <td>pos</td>\n",
       "    </tr>\n",
       "    <tr>\n",
       "      <th>3</th>\n",
       "      <td>#jamal https://t.co/8ej1rubxvb</td>\n",
       "      <td>jamal</td>\n",
       "      <td>{'neg': 0.0, 'neu': 1.0, 'pos': 0.0, 'compound...</td>\n",
       "      <td>0.0000</td>\n",
       "      <td>neu</td>\n",
       "      <td>0.000000</td>\n",
       "      <td>0.000000</td>\n",
       "      <td>neu</td>\n",
       "    </tr>\n",
       "    <tr>\n",
       "      <th>4</th>\n",
       "      <td>hey, india. we’re rolling out our new fleet of...</td>\n",
       "      <td>india roll fleet electr deliveri rickshaw full...</td>\n",
       "      <td>{'neg': 0.0, 'neu': 1.0, 'pos': 0.0, 'compound...</td>\n",
       "      <td>0.0000</td>\n",
       "      <td>neu</td>\n",
       "      <td>0.000000</td>\n",
       "      <td>0.000000</td>\n",
       "      <td>neu</td>\n",
       "    </tr>\n",
       "  </tbody>\n",
       "</table>\n",
       "</div>"
      ],
      "text/plain": [
       "                                              tweets  \\\n",
       "0  discussing climate, sustainability, and preser...   \n",
       "1  i just took a dna test, turns out i’m 100% @li...   \n",
       "2  hey, alexa — show everyone our upcoming super ...   \n",
       "3                     #jamal https://t.co/8ej1rubxvb   \n",
       "4  hey, india. we’re rolling out our new fleet of...   \n",
       "\n",
       "                                          tweets_adj  \\\n",
       "0  discuss climat sustain preserv natur world pre...   \n",
       "1                       take test turn biggest sbliv   \n",
       "2          alexa show everyon upcom super bowl thank   \n",
       "3                                              jamal   \n",
       "4  india roll fleet electr deliveri rickshaw full...   \n",
       "\n",
       "                                              scores  compound  \\\n",
       "0  {'neg': 0.0, 'neu': 1.0, 'pos': 0.0, 'compound...    0.0000   \n",
       "1  {'neg': 0.0, 'neu': 1.0, 'pos': 0.0, 'compound...    0.0000   \n",
       "2  {'neg': 0.0, 'neu': 0.439, 'pos': 0.561, 'comp...    0.7506   \n",
       "3  {'neg': 0.0, 'neu': 1.0, 'pos': 0.0, 'compound...    0.0000   \n",
       "4  {'neg': 0.0, 'neu': 1.0, 'pos': 0.0, 'compound...    0.0000   \n",
       "\n",
       "  compound_scores  subjectivity  polarity analysis  \n",
       "0             neu      0.000000  0.000000      neu  \n",
       "1             neu      0.000000  0.000000      neu  \n",
       "2             pos      0.666667  0.333333      pos  \n",
       "3             neu      0.000000  0.000000      neu  \n",
       "4             neu      0.000000  0.000000      neu  "
      ]
     },
     "execution_count": 24,
     "metadata": {},
     "output_type": "execute_result"
    }
   ],
   "source": [
    "# create a function for analysis\n",
    "def analysis(score):\n",
    "    if score > 0:\n",
    "        return \"pos\"\n",
    "    elif score == 0:\n",
    "        return \"neu\"\n",
    "    else:\n",
    "        return \"neg\"\n",
    "\n",
    "df[\"analysis\"] = df[\"polarity\"].apply(analysis)\n",
    "df.head()"
   ]
  },
  {
   "cell_type": "code",
   "execution_count": 25,
   "metadata": {},
   "outputs": [
    {
     "data": {
      "image/png": "[encoded data removed]",
      "text/plain": [
       "<Figure size 720x360 with 1 Axes>"
      ]
     },
     "metadata": {
      "needs_background": "light"
     },
     "output_type": "display_data"
    }
   ],
   "source": [
    "plt.figure(figsize = (10, 5))\n",
    "\n",
    "for i in range(0, df.shape[0]):\n",
    "    plt.scatter(df[\"subjectivity\"][i], df[\"polarity\"][i], color = \"red\")\n",
    "\n",
    "plt.title(\"Sentiment Analysis\")\n",
    "plt.xlabel(\"Polarity\")\n",
    "plt.ylabel(\"Subjectivity\")\n",
    "plt.show()"
   ]
  },
  {
   "cell_type": "code",
   "execution_count": 26,
   "metadata": {},
   "outputs": [
    {
     "data": {
      "image/png": "[encoded data removed]",
      "text/plain": [
       "<Figure size 432x288 with 1 Axes>"
      ]
     },
     "metadata": {
      "needs_background": "light"
     },
     "output_type": "display_data"
    }
   ],
   "source": [
    "df[\"analysis\"].value_counts().plot(kind = \"bar\")\n",
    "plt.title(\"Sentiment Analysis\")\n",
    "plt.xlabel(\"Sentiment\")\n",
    "plt.ylabel(\"Counts\")\n",
    "plt.show()"
   ]
  },
  {
   "cell_type": "code",
   "execution_count": 27,
   "metadata": {},
   "outputs": [
    {
     "data": {
      "text/plain": [
       "pos    102\n",
       "neu     87\n",
       "neg     10\n",
       "Name: analysis, dtype: int64"
      ]
     },
     "execution_count": 27,
     "metadata": {},
     "output_type": "execute_result"
    }
   ],
   "source": [
    "df[\"analysis\"].value_counts()"
   ]
  },
  {
   "cell_type": "code",
   "execution_count": 28,
   "metadata": {},
   "outputs": [
    {
     "name": "stdout",
     "output_type": "stream",
     "text": [
      "so much fun with caroline kennedy yesterday at the #jfkspacesummit. her father’s rice speech still inspires. we choose to do these things “not because they are easy, but because they are hard.” #apollo50 https://t.co/zmybdxzk4v\n",
      "\n",
      "amazon just won the american foundation for the blind’s helen keller award! huge kudos to the whole team on working so hard to make our products accessible to the vision impaired! @afb1921 https://t.co/qh6hkqkekb\n",
      "\n",
      "congrats to jeff on his long-term leadership. john, you have size 20 shoes to fill! ge remains an american gem. https://t.co/off4yp9j4e\n",
      "\n",
      "impossible to express how personally meaningful this is. a dream. huge kudos to @blueorigin team that worked so hard https://t.co/q2p0lsi81u https://t.co/d56xnkiibp\n",
      "\n",
      "1st be-4 engine fully assembled. 2nd and 3rd following close behind. #gradatimferociter https://t.co/due4tnzvkx\n",
      "\n",
      "late late show’s @jkcorden on amazon go – very funny! https://t.co/oow3ev2l1x\n",
      "\n",
      "long wait is over… clarkson, hammond, may are back… #thegrandtour premieres tonight in uk, us, de, jp. and globally in dec. https://t.co/dfqjggudfw\n",
      "\n",
      "steering through violent maxq escape forces is a residual capability, not explicitly engineered. just a very robust booster. #inflightescape\n",
      "\n",
      "here’s escape vid in slow mo. #inflightescape https://t.co/mrkrihzu8y\n",
      "\n",
      ".@matteorenzi excited to announce amazon artificial intelligence &amp; machine learning center in turin https://t.co/jxa7vxwzhf\n",
      "\n"
     ]
    }
   ],
   "source": [
    "for i in range(0, df.shape[0]):\n",
    "    if(df[\"analysis\"][i] == \"neg\"):\n",
    "        print(df[\"tweets\"][i])\n",
    "        print()"
   ]
  },
  {
   "cell_type": "code",
   "execution_count": 29,
   "metadata": {},
   "outputs": [
    {
     "name": "stdout",
     "output_type": "stream",
     "text": [
      "              precision    recall  f1-score   support\n",
      "\n",
      "         neg       0.20      0.29      0.24         7\n",
      "         neu       0.46      0.73      0.56        55\n",
      "         pos       0.87      0.65      0.74       137\n",
      "\n",
      "    accuracy                           0.66       199\n",
      "   macro avg       0.51      0.55      0.51       199\n",
      "weighted avg       0.73      0.66      0.68       199\n",
      "\n"
     ]
    }
   ],
   "source": [
    "from sklearn.metrics import accuracy_score,classification_report,confusion_matrix\n",
    "\n",
    "print(classification_report(df[\"compound_scores\"], df[\"analysis\"]))"
   ]
  },
  {
   "cell_type": "code",
   "execution_count": null,
   "metadata": {},
   "outputs": [],
   "source": []
  }
 ],
 "metadata": {
  "kernelspec": {
   "display_name": "Python 3",
   "language": "python",
   "name": "python3"
  },
  "language_info": {
   "codemirror_mode": {
    "name": "ipython",
    "version": 3
   },
   "file_extension": ".py",
   "mimetype": "text/x-python",
   "name": "python",
   "nbconvert_exporter": "python",
   "pygments_lexer": "ipython3",
   "version": "3.7.6"
  }
 },
 "nbformat": 4,
 "nbformat_minor": 4
}
